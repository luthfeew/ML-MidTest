{
 "metadata": {
  "language_info": {
   "codemirror_mode": {
    "name": "ipython",
    "version": 3
   },
   "file_extension": ".py",
   "mimetype": "text/x-python",
   "name": "python",
   "nbconvert_exporter": "python",
   "pygments_lexer": "ipython3",
   "version": "3.8.8"
  },
  "orig_nbformat": 2,
  "kernelspec": {
   "name": "python388jvsc74a57bd0c3d4ec7c30d1b76eca2e823385d6dcb2e128558d5d3fcff2fafd39dccb94f471",
   "display_name": "Python 3.8.8 64-bit"
  },
  "metadata": {
   "interpreter": {
    "hash": "c3d4ec7c30d1b76eca2e823385d6dcb2e128558d5d3fcff2fafd39dccb94f471"
   }
  }
 },
 "nbformat": 4,
 "nbformat_minor": 2,
 "cells": [
  {
   "cell_type": "code",
   "execution_count": 1,
   "metadata": {},
   "outputs": [],
   "source": [
    "import pandas as pd # ibrary untuk baca data\n",
    "from sklearn.linear_model import LinearRegression # library dari sklearn untuk linear reggresion\n",
    "from sklearn.model_selection import train_test_split # library dari sklearn untuk melatih model data"
   ]
  },
  {
   "cell_type": "code",
   "execution_count": 2,
   "metadata": {},
   "outputs": [],
   "source": [
    "df = pd.read_csv('data_survei_pasar.csv', usecols=['ram', 'px_height', 'battery_power', 'px_width', 'price_range']) # pembacaan data dengan kolom tertentu"
   ]
  },
  {
   "cell_type": "code",
   "execution_count": 3,
   "metadata": {},
   "outputs": [
    {
     "output_type": "execute_result",
     "data": {
      "text/plain": [
       "battery_power    0\n",
       "px_height        0\n",
       "px_width         0\n",
       "ram              0\n",
       "price_range      0\n",
       "dtype: int64"
      ]
     },
     "metadata": {},
     "execution_count": 3
    }
   ],
   "source": [
    "df.isnull().sum() # memeriksa jumlah data kosong"
   ]
  },
  {
   "cell_type": "code",
   "execution_count": 4,
   "metadata": {},
   "outputs": [
    {
     "output_type": "execute_result",
     "data": {
      "text/plain": [
       "       battery_power    px_height     px_width          ram  price_range\n",
       "count    2000.000000  2000.000000  2000.000000  2000.000000  2000.000000\n",
       "mean     1238.518500   645.108000  1251.515500  2124.213000     1.500000\n",
       "std       439.418206   443.780811   432.199447  1084.732044     1.118314\n",
       "min       501.000000     0.000000   500.000000   256.000000     0.000000\n",
       "25%       851.750000   282.750000   874.750000  1207.500000     0.750000\n",
       "50%      1226.000000   564.000000  1247.000000  2146.500000     1.500000\n",
       "75%      1615.250000   947.250000  1633.000000  3064.500000     2.250000\n",
       "max      1998.000000  1960.000000  1998.000000  3998.000000     3.000000"
      ],
      "text/html": "<div>\n<style scoped>\n    .dataframe tbody tr th:only-of-type {\n        vertical-align: middle;\n    }\n\n    .dataframe tbody tr th {\n        vertical-align: top;\n    }\n\n    .dataframe thead th {\n        text-align: right;\n    }\n</style>\n<table border=\"1\" class=\"dataframe\">\n  <thead>\n    <tr style=\"text-align: right;\">\n      <th></th>\n      <th>battery_power</th>\n      <th>px_height</th>\n      <th>px_width</th>\n      <th>ram</th>\n      <th>price_range</th>\n    </tr>\n  </thead>\n  <tbody>\n    <tr>\n      <th>count</th>\n      <td>2000.000000</td>\n      <td>2000.000000</td>\n      <td>2000.000000</td>\n      <td>2000.000000</td>\n      <td>2000.000000</td>\n    </tr>\n    <tr>\n      <th>mean</th>\n      <td>1238.518500</td>\n      <td>645.108000</td>\n      <td>1251.515500</td>\n      <td>2124.213000</td>\n      <td>1.500000</td>\n    </tr>\n    <tr>\n      <th>std</th>\n      <td>439.418206</td>\n      <td>443.780811</td>\n      <td>432.199447</td>\n      <td>1084.732044</td>\n      <td>1.118314</td>\n    </tr>\n    <tr>\n      <th>min</th>\n      <td>501.000000</td>\n      <td>0.000000</td>\n      <td>500.000000</td>\n      <td>256.000000</td>\n      <td>0.000000</td>\n    </tr>\n    <tr>\n      <th>25%</th>\n      <td>851.750000</td>\n      <td>282.750000</td>\n      <td>874.750000</td>\n      <td>1207.500000</td>\n      <td>0.750000</td>\n    </tr>\n    <tr>\n      <th>50%</th>\n      <td>1226.000000</td>\n      <td>564.000000</td>\n      <td>1247.000000</td>\n      <td>2146.500000</td>\n      <td>1.500000</td>\n    </tr>\n    <tr>\n      <th>75%</th>\n      <td>1615.250000</td>\n      <td>947.250000</td>\n      <td>1633.000000</td>\n      <td>3064.500000</td>\n      <td>2.250000</td>\n    </tr>\n    <tr>\n      <th>max</th>\n      <td>1998.000000</td>\n      <td>1960.000000</td>\n      <td>1998.000000</td>\n      <td>3998.000000</td>\n      <td>3.000000</td>\n    </tr>\n  </tbody>\n</table>\n</div>"
     },
     "metadata": {},
     "execution_count": 4
    }
   ],
   "source": [
    "df.describe() # melihat statistical description dari data mulai dari mean, kuartil, standard deviation dll"
   ]
  },
  {
   "cell_type": "code",
   "execution_count": 5,
   "metadata": {},
   "outputs": [
    {
     "output_type": "execute_result",
     "data": {
      "text/plain": [
       "<pandas.io.formats.style.Styler at 0x2557b0971c0>"
      ],
      "text/html": "<style  type=\"text/css\" >\n#T_33c14_row0_col0,#T_33c14_row1_col1,#T_33c14_row2_col2,#T_33c14_row3_col3,#T_33c14_row4_col4{\n            background-color:  #023858;\n            color:  #f1f1f1;\n        }#T_33c14_row0_col1{\n            background-color:  #faf3f9;\n            color:  #000000;\n        }#T_33c14_row0_col2,#T_33c14_row1_col3,#T_33c14_row1_col4,#T_33c14_row2_col0,#T_33c14_row3_col1{\n            background-color:  #fff7fb;\n            color:  #000000;\n        }#T_33c14_row0_col3,#T_33c14_row3_col2{\n            background-color:  #fdf5fa;\n            color:  #000000;\n        }#T_33c14_row0_col4{\n            background-color:  #f6eff7;\n            color:  #000000;\n        }#T_33c14_row1_col0,#T_33c14_row2_col4{\n            background-color:  #fcf4fa;\n            color:  #000000;\n        }#T_33c14_row1_col2{\n            background-color:  #6da6cd;\n            color:  #000000;\n        }#T_33c14_row2_col1{\n            background-color:  #69a5cc;\n            color:  #000000;\n        }#T_33c14_row2_col3{\n            background-color:  #fbf4f9;\n            color:  #000000;\n        }#T_33c14_row3_col0{\n            background-color:  #fef6fb;\n            color:  #000000;\n        }#T_33c14_row3_col4{\n            background-color:  #045280;\n            color:  #f1f1f1;\n        }#T_33c14_row4_col0{\n            background-color:  #d9d8ea;\n            color:  #000000;\n        }#T_33c14_row4_col1{\n            background-color:  #e3e0ee;\n            color:  #000000;\n        }#T_33c14_row4_col2{\n            background-color:  #e1dfed;\n            color:  #000000;\n        }#T_33c14_row4_col3{\n            background-color:  #034d79;\n            color:  #f1f1f1;\n        }</style><table id=\"T_33c14_\" ><thead>    <tr>        <th class=\"blank level0\" ></th>        <th class=\"col_heading level0 col0\" >battery_power</th>        <th class=\"col_heading level0 col1\" >px_height</th>        <th class=\"col_heading level0 col2\" >px_width</th>        <th class=\"col_heading level0 col3\" >ram</th>        <th class=\"col_heading level0 col4\" >price_range</th>    </tr></thead><tbody>\n                <tr>\n                        <th id=\"T_33c14_level0_row0\" class=\"row_heading level0 row0\" >battery_power</th>\n                        <td id=\"T_33c14_row0_col0\" class=\"data row0 col0\" >1.00</td>\n                        <td id=\"T_33c14_row0_col1\" class=\"data row0 col1\" >0.01</td>\n                        <td id=\"T_33c14_row0_col2\" class=\"data row0 col2\" >-0.01</td>\n                        <td id=\"T_33c14_row0_col3\" class=\"data row0 col3\" >-0.00</td>\n                        <td id=\"T_33c14_row0_col4\" class=\"data row0 col4\" >0.20</td>\n            </tr>\n            <tr>\n                        <th id=\"T_33c14_level0_row1\" class=\"row_heading level0 row1\" >px_height</th>\n                        <td id=\"T_33c14_row1_col0\" class=\"data row1 col0\" >0.01</td>\n                        <td id=\"T_33c14_row1_col1\" class=\"data row1 col1\" >1.00</td>\n                        <td id=\"T_33c14_row1_col2\" class=\"data row1 col2\" >0.51</td>\n                        <td id=\"T_33c14_row1_col3\" class=\"data row1 col3\" >-0.02</td>\n                        <td id=\"T_33c14_row1_col4\" class=\"data row1 col4\" >0.15</td>\n            </tr>\n            <tr>\n                        <th id=\"T_33c14_level0_row2\" class=\"row_heading level0 row2\" >px_width</th>\n                        <td id=\"T_33c14_row2_col0\" class=\"data row2 col0\" >-0.01</td>\n                        <td id=\"T_33c14_row2_col1\" class=\"data row2 col1\" >0.51</td>\n                        <td id=\"T_33c14_row2_col2\" class=\"data row2 col2\" >1.00</td>\n                        <td id=\"T_33c14_row2_col3\" class=\"data row2 col3\" >0.00</td>\n                        <td id=\"T_33c14_row2_col4\" class=\"data row2 col4\" >0.17</td>\n            </tr>\n            <tr>\n                        <th id=\"T_33c14_level0_row3\" class=\"row_heading level0 row3\" >ram</th>\n                        <td id=\"T_33c14_row3_col0\" class=\"data row3 col0\" >-0.00</td>\n                        <td id=\"T_33c14_row3_col1\" class=\"data row3 col1\" >-0.02</td>\n                        <td id=\"T_33c14_row3_col2\" class=\"data row3 col2\" >0.00</td>\n                        <td id=\"T_33c14_row3_col3\" class=\"data row3 col3\" >1.00</td>\n                        <td id=\"T_33c14_row3_col4\" class=\"data row3 col4\" >0.92</td>\n            </tr>\n            <tr>\n                        <th id=\"T_33c14_level0_row4\" class=\"row_heading level0 row4\" >price_range</th>\n                        <td id=\"T_33c14_row4_col0\" class=\"data row4 col0\" >0.20</td>\n                        <td id=\"T_33c14_row4_col1\" class=\"data row4 col1\" >0.15</td>\n                        <td id=\"T_33c14_row4_col2\" class=\"data row4 col2\" >0.17</td>\n                        <td id=\"T_33c14_row4_col3\" class=\"data row4 col3\" >0.92</td>\n                        <td id=\"T_33c14_row4_col4\" class=\"data row4 col4\" >1.00</td>\n            </tr>\n    </tbody></table>"
     },
     "metadata": {},
     "execution_count": 5
    }
   ],
   "source": [
    "df.corr().style.background_gradient().set_precision(2) #Mengetahui nilai korelasi dari independent variable dan dependent variable"
   ]
  },
  {
   "cell_type": "code",
   "execution_count": 6,
   "metadata": {},
   "outputs": [
    {
     "output_type": "stream",
     "name": "stdout",
     "text": [
      "Koefisien (m)\t: [0.00050662 0.00026979 0.00027996 0.00094159]\nIntercept (b)\t: -1.6487050667746015\n"
     ]
    }
   ],
   "source": [
    "# buat variabel x dan y.\n",
    "x = df.drop(columns='price_range')\n",
    "y = df['price_range']\n",
    "\n",
    "# split data menjadi training and testing dengan porsi 80:20\n",
    "x_train, x_test, y_train, y_test = train_test_split(x, y, test_size=0.2, random_state=4)\n",
    "\n",
    "# buat object linear regresi\n",
    "lin_reg = LinearRegression()\n",
    "\n",
    "# melatih model menggunakan training data yang sudah displit\n",
    "lin_reg.fit(x_train, y_train)\n",
    "\n",
    "# cari tau nilai slope/koefisien (m) dan intercept (b)\n",
    "print(\"Koefisien (m)\\t: \" + str(lin_reg.coef_))\n",
    "print(\"Intercept (b)\\t: \" + str(lin_reg.intercept_))"
   ]
  },
  {
   "cell_type": "code",
   "execution_count": 7,
   "metadata": {},
   "outputs": [
    {
     "output_type": "stream",
     "name": "stdout",
     "text": [
      "Score Model/Accuracy Score\t: 0.9254828721150172\n"
     ]
    }
   ],
   "source": [
    "print(\"Score Model/Accuracy Score\\t: \" + str(lin_reg.score(x_test, y_test))) # cari tahu accuracy score dari model menggunakan testing data yang sudah displit"
   ]
  },
  {
   "cell_type": "code",
   "execution_count": 8,
   "metadata": {},
   "outputs": [
    {
     "output_type": "stream",
     "name": "stdout",
     "text": [
      "Price range\t: [1.60969971]\n"
     ]
    }
   ],
   "source": [
    "print(\"Price range\\t: \" + str(lin_reg.predict([[1500,1366,720,2048]]))) # contoh prediksi harga ponsel dengan battery_power=1500, px_height=1366, px_width=720, ram=2048"
   ]
  }
 ]
}